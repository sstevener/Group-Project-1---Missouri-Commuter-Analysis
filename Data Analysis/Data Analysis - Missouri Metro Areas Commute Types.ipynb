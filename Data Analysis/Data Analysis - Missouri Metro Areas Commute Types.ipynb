{
 "cells": [
  {
   "cell_type": "code",
   "execution_count": 1,
   "metadata": {},
   "outputs": [],
   "source": [
    "#import dependencies\n",
    "import numpy as np\n",
    "import pandas as pd\n",
    "import matplotlib.pyplot as plt\n",
    "import gmaps\n",
    "import numpy as np\n",
    "import scipy.stats as stats\n",
    "from config import gkey\n",
    "\n",
    "#set gmaps settings\n",
    "gmaps.configure(api_key = gkey)\n",
    "\n",
    "#import metro area csvs\n",
    "other_state_commute_data = pd.read_csv(\"..\\Resources\\other_state_commute_data.csv\")\n",
    "metro_commute_data_MO = pd.read_csv(\"..\\Resources\\metro_commute_data_MO.csv\")"
   ]
  },
  {
   "cell_type": "markdown",
   "metadata": {},
   "source": [
    "## Create Metro Area Tables"
   ]
  },
  {
   "cell_type": "code",
   "execution_count": 2,
   "metadata": {
    "scrolled": false
   },
   "outputs": [],
   "source": [
    "#combine MO and non-MO metro county tables\n",
    "metro_commute_data = metro_commute_data_MO.append(other_state_commute_data)\n",
    "\n",
    "#locate data for each metro area\n",
    "KC_metro_data = metro_commute_data.loc[metro_commute_data[\"Metro Pole\"] == \"Kansas City\"]\n",
    "STL_metro_data = metro_commute_data.loc[metro_commute_data[\"Metro Pole\"] == \"St. Louis\"]\n",
    "SPR_metro_data = metro_commute_data.loc[metro_commute_data[\"Metro Pole\"] == \"Springfield\"]"
   ]
  },
  {
   "cell_type": "markdown",
   "metadata": {},
   "source": [
    "## Heat maps: Concentration of Commuters\n",
    "\n",
    "### Kansas City"
   ]
  },
  {
   "cell_type": "code",
   "execution_count": 3,
   "metadata": {},
   "outputs": [
    {
     "data": {
      "application/vnd.jupyter.widget-view+json": {
       "model_id": "a9c0de2d0e7743928e363f5d321f833a",
       "version_major": 2,
       "version_minor": 0
      },
      "text/plain": [
       "Figure(layout=FigureLayout(height='420px'))"
      ]
     },
     "metadata": {},
     "output_type": "display_data"
    }
   ],
   "source": [
    "##plot heatmap of # of commuters\n",
    "#set gmaps figure\n",
    "KC_commuter_fig = gmaps.figure()\n",
    "\n",
    "#set coordinates as locations\n",
    "KC_metro_locations = KC_metro_data[[\"Latitude\", \"Longitude\"]]\n",
    "\n",
    "#plot heat layer\n",
    "heat_layer = gmaps.heatmap_layer(KC_metro_locations, weights=KC_metro_data[\"Total Commuters\"], \n",
    "                                 dissipating=False, max_intensity=max(KC_metro_data[\"Total Commuters\"]),\n",
    "                                 point_radius = .333)\n",
    "\n",
    "#adjust heat layer setting to help with heatmap dissipating on zoom\n",
    "heat_layer.dissipating = False\n",
    "heat_layer.max_intensity = max(KC_metro_data[\"Total Commuters\"])\n",
    "heat_layer.point_radius = .333\n",
    "#add heat layer to figure\n",
    "KC_commuter_fig.add_layer(heat_layer)\n",
    "\n",
    "KC_commuter_fig"
   ]
  },
  {
   "cell_type": "markdown",
   "metadata": {},
   "source": [
    "### St. Louis"
   ]
  },
  {
   "cell_type": "code",
   "execution_count": 4,
   "metadata": {},
   "outputs": [
    {
     "data": {
      "application/vnd.jupyter.widget-view+json": {
       "model_id": "56c2d38e2c494cae878a51af8638d778",
       "version_major": 2,
       "version_minor": 0
      },
      "text/plain": [
       "Figure(layout=FigureLayout(height='420px'))"
      ]
     },
     "metadata": {},
     "output_type": "display_data"
    }
   ],
   "source": [
    "#set gmaps figure\n",
    "STL_commuter_fig = gmaps.figure()\n",
    "\n",
    "#set coordinates as locations\n",
    "STL_metro_locations = STL_metro_data[[\"Latitude\", \"Longitude\"]]\n",
    "\n",
    "#plot heat layer\n",
    "heat_layer = gmaps.heatmap_layer(STL_metro_locations, weights=STL_metro_data[\"Total Commuters\"], \n",
    "                                 dissipating=False, max_intensity=max(STL_metro_data[\"Total Commuters\"]),\n",
    "                                 point_radius = .333)\n",
    "\n",
    "#adjust heat layer setting to help with heatmap dissipating on zoom\n",
    "heat_layer.dissipating = False\n",
    "heat_layer.max_intensity = max(STL_metro_data[\"Total Commuters\"])\n",
    "heat_layer.point_radius = .333\n",
    "#add heat layer to figure\n",
    "STL_commuter_fig.add_layer(heat_layer)\n",
    "\n",
    "STL_commuter_fig"
   ]
  },
  {
   "cell_type": "markdown",
   "metadata": {},
   "source": [
    "### Springfield"
   ]
  },
  {
   "cell_type": "code",
   "execution_count": 5,
   "metadata": {},
   "outputs": [
    {
     "data": {
      "application/vnd.jupyter.widget-view+json": {
       "model_id": "2d6bc75208a54df293af478dc41407fe",
       "version_major": 2,
       "version_minor": 0
      },
      "text/plain": [
       "Figure(layout=FigureLayout(height='420px'))"
      ]
     },
     "metadata": {},
     "output_type": "display_data"
    }
   ],
   "source": [
    "#set gmaps figure\n",
    "SPR_commuter_fig = gmaps.figure()\n",
    "\n",
    "#set coordinates as locations\n",
    "SPR_metro_locations = SPR_metro_data[[\"Latitude\", \"Longitude\"]]\n",
    "\n",
    "#plot heat layer\n",
    "heat_layer = gmaps.heatmap_layer(SPR_metro_locations, weights=SPR_metro_data[\"Total Commuters\"], \n",
    "                                 dissipating=False, max_intensity=max(SPR_metro_data[\"Total Commuters\"]),\n",
    "                                 point_radius = .333)\n",
    "\n",
    "#adjust heat layer setting to help with heatmap dissipating on zoom\n",
    "heat_layer.dissipating = False\n",
    "heat_layer.max_intensity = max(SPR_metro_data[\"Total Commuters\"])\n",
    "heat_layer.point_radius = .333\n",
    "#add heat layer to figure\n",
    "SPR_commuter_fig.add_layer(heat_layer)\n",
    "\n",
    "SPR_commuter_fig"
   ]
  },
  {
   "cell_type": "markdown",
   "metadata": {},
   "source": [
    "## Metro Areas Tables\n",
    "\n",
    "\n",
    "### Metro Areas Commute Overview"
   ]
  },
  {
   "cell_type": "code",
   "execution_count": 6,
   "metadata": {},
   "outputs": [
    {
     "data": {
      "text/html": [
       "<div>\n",
       "<style scoped>\n",
       "    .dataframe tbody tr th:only-of-type {\n",
       "        vertical-align: middle;\n",
       "    }\n",
       "\n",
       "    .dataframe tbody tr th {\n",
       "        vertical-align: top;\n",
       "    }\n",
       "\n",
       "    .dataframe thead th {\n",
       "        text-align: right;\n",
       "    }\n",
       "</style>\n",
       "<table border=\"1\" class=\"dataframe\">\n",
       "  <thead>\n",
       "    <tr style=\"text-align: right;\">\n",
       "      <th></th>\n",
       "      <th>Total Metro Population</th>\n",
       "      <th>Total Commuters</th>\n",
       "      <th>Commuter %</th>\n",
       "    </tr>\n",
       "    <tr>\n",
       "      <th>City</th>\n",
       "      <th></th>\n",
       "      <th></th>\n",
       "      <th></th>\n",
       "    </tr>\n",
       "  </thead>\n",
       "  <tbody>\n",
       "    <tr>\n",
       "      <th>Kansas City</th>\n",
       "      <td>2070147.0</td>\n",
       "      <td>1016774.0</td>\n",
       "      <td>49.116029</td>\n",
       "    </tr>\n",
       "    <tr>\n",
       "      <th>St. Louis</th>\n",
       "      <td>2734868.0</td>\n",
       "      <td>1312846.0</td>\n",
       "      <td>48.003999</td>\n",
       "    </tr>\n",
       "    <tr>\n",
       "      <th>Springfield</th>\n",
       "      <td>452198.0</td>\n",
       "      <td>205386.0</td>\n",
       "      <td>45.419484</td>\n",
       "    </tr>\n",
       "  </tbody>\n",
       "</table>\n",
       "</div>"
      ],
      "text/plain": [
       "             Total Metro Population  Total Commuters  Commuter %\n",
       "City                                                            \n",
       "Kansas City               2070147.0        1016774.0   49.116029\n",
       "St. Louis                 2734868.0        1312846.0   48.003999\n",
       "Springfield                452198.0         205386.0   45.419484"
      ]
     },
     "execution_count": 6,
     "metadata": {},
     "output_type": "execute_result"
    }
   ],
   "source": [
    "#calculate total population, total commuters, and commuter % for each metro area\n",
    "KC_total_pop = KC_metro_data[\"Total Population\"].sum()\n",
    "KC_total_commuters = KC_metro_data[\"Total Commuters\"].sum()\n",
    "KC_commuter_perc = KC_total_commuters / KC_total_pop * 100\n",
    "\n",
    "STL_total_pop = STL_metro_data[\"Total Population\"].sum()\n",
    "STL_total_commuters = STL_metro_data[\"Total Commuters\"].sum()\n",
    "STL_commuter_perc = STL_total_commuters / STL_total_pop * 100\n",
    "\n",
    "SPR_total_pop = SPR_metro_data[\"Total Population\"].sum()\n",
    "SPR_total_commuters = SPR_metro_data[\"Total Commuters\"].sum()\n",
    "SPR_commuter_perc = SPR_total_commuters / SPR_total_pop * 100\n",
    "\n",
    "#create metro commute overview table\n",
    "metro_pop_df = pd.DataFrame([{\"City\": \"Kansas City\", \"Total Metro Population\": KC_total_pop, \n",
    "                              \"Total Commuters\": KC_total_commuters, \"Commuter %\": KC_commuter_perc}, \n",
    "                             {\"City\": \"St. Louis\", \"Total Metro Population\": STL_total_pop, \n",
    "                              \"Total Commuters\": STL_total_commuters, \"Commuter %\": STL_commuter_perc}, \n",
    "                             {\"City\": \"Springfield\", \"Total Metro Population\": SPR_total_pop, \n",
    "                              \"Total Commuters\": SPR_total_commuters, \"Commuter %\": SPR_commuter_perc}])\n",
    "\n",
    "#table formatting\n",
    "metro_pop_df = metro_pop_df.set_index(\"City\")\n",
    "metro_pop_df = metro_pop_df[[\"Total Metro Population\", \"Total Commuters\", \"Commuter %\"]]\n",
    "metro_pop_df"
   ]
  },
  {
   "cell_type": "markdown",
   "metadata": {},
   "source": [
    "### Metro Areas Commute Type Breakdown"
   ]
  },
  {
   "cell_type": "code",
   "execution_count": 7,
   "metadata": {},
   "outputs": [
    {
     "data": {
      "text/html": [
       "<div>\n",
       "<style scoped>\n",
       "    .dataframe tbody tr th:only-of-type {\n",
       "        vertical-align: middle;\n",
       "    }\n",
       "\n",
       "    .dataframe tbody tr th {\n",
       "        vertical-align: top;\n",
       "    }\n",
       "\n",
       "    .dataframe thead th {\n",
       "        text-align: right;\n",
       "    }\n",
       "</style>\n",
       "<table border=\"1\" class=\"dataframe\">\n",
       "  <thead>\n",
       "    <tr style=\"text-align: right;\">\n",
       "      <th></th>\n",
       "      <th>Solo Commuters</th>\n",
       "      <th>Solo Commuter %</th>\n",
       "      <th>Carpoolers</th>\n",
       "      <th>Carpooler %</th>\n",
       "      <th>Public Transit</th>\n",
       "      <th>Public Transit %</th>\n",
       "      <th>Walking</th>\n",
       "      <th>Walking %</th>\n",
       "      <th>Other Transit</th>\n",
       "      <th>Other Transit %</th>\n",
       "    </tr>\n",
       "    <tr>\n",
       "      <th>City</th>\n",
       "      <th></th>\n",
       "      <th></th>\n",
       "      <th></th>\n",
       "      <th></th>\n",
       "      <th></th>\n",
       "      <th></th>\n",
       "      <th></th>\n",
       "      <th></th>\n",
       "      <th></th>\n",
       "      <th></th>\n",
       "    </tr>\n",
       "  </thead>\n",
       "  <tbody>\n",
       "    <tr>\n",
       "      <th>Kansas City</th>\n",
       "      <td>848074.0</td>\n",
       "      <td>83.408309</td>\n",
       "      <td>86296.0</td>\n",
       "      <td>8.487235</td>\n",
       "      <td>10956.0</td>\n",
       "      <td>1.077526</td>\n",
       "      <td>13385.0</td>\n",
       "      <td>1.316418</td>\n",
       "      <td>10895.0</td>\n",
       "      <td>1.071526</td>\n",
       "    </tr>\n",
       "    <tr>\n",
       "      <th>St. Louis</th>\n",
       "      <td>1087571.0</td>\n",
       "      <td>82.840714</td>\n",
       "      <td>96867.0</td>\n",
       "      <td>7.378398</td>\n",
       "      <td>35540.0</td>\n",
       "      <td>2.707096</td>\n",
       "      <td>21171.0</td>\n",
       "      <td>1.612603</td>\n",
       "      <td>14627.0</td>\n",
       "      <td>1.114144</td>\n",
       "    </tr>\n",
       "    <tr>\n",
       "      <th>Springfield</th>\n",
       "      <td>167545.0</td>\n",
       "      <td>81.575667</td>\n",
       "      <td>20814.0</td>\n",
       "      <td>10.134089</td>\n",
       "      <td>967.0</td>\n",
       "      <td>0.470821</td>\n",
       "      <td>3952.0</td>\n",
       "      <td>1.924182</td>\n",
       "      <td>3420.0</td>\n",
       "      <td>1.665157</td>\n",
       "    </tr>\n",
       "  </tbody>\n",
       "</table>\n",
       "</div>"
      ],
      "text/plain": [
       "             Solo Commuters  Solo Commuter %  Carpoolers  Carpooler %  \\\n",
       "City                                                                    \n",
       "Kansas City        848074.0        83.408309     86296.0     8.487235   \n",
       "St. Louis         1087571.0        82.840714     96867.0     7.378398   \n",
       "Springfield        167545.0        81.575667     20814.0    10.134089   \n",
       "\n",
       "             Public Transit  Public Transit %  Walking  Walking %  \\\n",
       "City                                                                \n",
       "Kansas City         10956.0          1.077526  13385.0   1.316418   \n",
       "St. Louis           35540.0          2.707096  21171.0   1.612603   \n",
       "Springfield           967.0          0.470821   3952.0   1.924182   \n",
       "\n",
       "             Other Transit  Other Transit %  \n",
       "City                                         \n",
       "Kansas City        10895.0         1.071526  \n",
       "St. Louis          14627.0         1.114144  \n",
       "Springfield         3420.0         1.665157  "
      ]
     },
     "execution_count": 7,
     "metadata": {},
     "output_type": "execute_result"
    }
   ],
   "source": [
    "#calculate totals for commute types for each metro area\n",
    "KC_solo = KC_metro_data[\"Solo Commuters\"].sum()\n",
    "KC_carpool = KC_metro_data[\"Carpoolers\"].sum()\n",
    "KC_public = KC_metro_data[\"Public Transit\"].sum()\n",
    "KC_walk = KC_metro_data[\"Walking\"].sum()\n",
    "KC_other = KC_metro_data[\"Other Transit\"].sum()\n",
    "\n",
    "STL_solo = STL_metro_data[\"Solo Commuters\"].sum()\n",
    "STL_carpool = STL_metro_data[\"Carpoolers\"].sum()\n",
    "STL_public = STL_metro_data[\"Public Transit\"].sum()\n",
    "STL_walk = STL_metro_data[\"Walking\"].sum()\n",
    "STL_other = STL_metro_data[\"Other Transit\"].sum()\n",
    "\n",
    "SPR_solo = SPR_metro_data[\"Solo Commuters\"].sum()\n",
    "SPR_carpool = SPR_metro_data[\"Carpoolers\"].sum()\n",
    "SPR_public = SPR_metro_data[\"Public Transit\"].sum()\n",
    "SPR_walk = SPR_metro_data[\"Walking\"].sum()\n",
    "SPR_other = SPR_metro_data[\"Other Transit\"].sum()\n",
    "\n",
    "#calculate %s for each commute type for each metro area\n",
    "KC_solo_perc = KC_solo / metro_pop_df[\"Total Commuters\"][\"Kansas City\"] * 100\n",
    "KC_carpool_perc = KC_carpool / metro_pop_df[\"Total Commuters\"][\"Kansas City\"] * 100\n",
    "KC_public_perc = KC_public / metro_pop_df[\"Total Commuters\"][\"Kansas City\"] * 100\n",
    "KC_walk_perc = KC_walk / metro_pop_df[\"Total Commuters\"][\"Kansas City\"] * 100\n",
    "KC_other_perc = KC_other / metro_pop_df[\"Total Commuters\"][\"Kansas City\"] * 100\n",
    "\n",
    "STL_solo_perc = STL_solo / metro_pop_df[\"Total Commuters\"][\"St. Louis\"] * 100\n",
    "STL_carpool_perc = STL_carpool / metro_pop_df[\"Total Commuters\"][\"St. Louis\"] * 100\n",
    "STL_public_perc = STL_public / metro_pop_df[\"Total Commuters\"][\"St. Louis\"] * 100\n",
    "STL_walk_perc = STL_walk / metro_pop_df[\"Total Commuters\"][\"St. Louis\"] * 100\n",
    "STL_other_perc = STL_other / metro_pop_df[\"Total Commuters\"][\"St. Louis\"] * 100\n",
    "\n",
    "SPR_solo_perc = SPR_solo / metro_pop_df[\"Total Commuters\"][\"Springfield\"] * 100\n",
    "SPR_carpool_perc = SPR_carpool / metro_pop_df[\"Total Commuters\"][\"Springfield\"] * 100\n",
    "SPR_public_perc = SPR_public / metro_pop_df[\"Total Commuters\"][\"Springfield\"] * 100\n",
    "SPR_walk_perc = SPR_walk / metro_pop_df[\"Total Commuters\"][\"Springfield\"] * 100\n",
    "SPR_other_perc = SPR_other / metro_pop_df[\"Total Commuters\"][\"Springfield\"] * 100\n",
    "\n",
    "#create metro commute types table\n",
    "metro_commute_df = pd.DataFrame([{\"City\": \"Kansas City\", \n",
    "                                  \"Solo Commuters\": KC_solo, \"Solo Commuter %\": KC_solo_perc, \n",
    "                                  \"Carpoolers\": KC_carpool, \"Carpooler %\": KC_carpool_perc, \n",
    "                                  \"Public Transit\": KC_public, \"Public Transit %\": KC_public_perc, \n",
    "                                  \"Walking\": KC_walk, \"Walking %\": KC_walk_perc, \n",
    "                                  \"Other Transit\": KC_other, \"Other Transit %\": KC_other_perc}, \n",
    "                                 {\"City\": \"St. Louis\", \n",
    "                                  \"Solo Commuters\": STL_solo, \"Solo Commuter %\": STL_solo_perc, \n",
    "                                  \"Carpoolers\": STL_carpool, \"Carpooler %\": STL_carpool_perc, \n",
    "                                  \"Public Transit\": STL_public, \"Public Transit %\": STL_public_perc, \n",
    "                                  \"Walking\": STL_walk, \"Walking %\": STL_walk_perc, \n",
    "                                  \"Other Transit\": STL_other, \"Other Transit %\": STL_other_perc}, \n",
    "                                 {\"City\": \"Springfield\", \n",
    "                                  \"Solo Commuters\": SPR_solo, \"Solo Commuter %\": SPR_solo_perc, \n",
    "                                  \"Carpoolers\": SPR_carpool, \"Carpooler %\": SPR_carpool_perc, \n",
    "                                  \"Public Transit\": SPR_public, \"Public Transit %\": SPR_public_perc, \n",
    "                                  \"Walking\": SPR_walk, \"Walking %\": SPR_walk_perc, \n",
    "                                  \"Other Transit\": SPR_other, \"Other Transit %\": SPR_other_perc}])\n",
    "\n",
    "#table formatting\n",
    "metro_commute_df = metro_commute_df.set_index(\"City\")\n",
    "metro_commute_df = metro_commute_df[[\"Solo Commuters\", \"Solo Commuter %\", \"Carpoolers\", \"Carpooler %\", \n",
    "                                     \"Public Transit\", \"Public Transit %\", \"Walking\", \"Walking %\", \n",
    "                                     \"Other Transit\", \"Other Transit %\"]]\n",
    "metro_commute_df"
   ]
  },
  {
   "cell_type": "code",
   "execution_count": 8,
   "metadata": {},
   "outputs": [
    {
     "data": {
      "text/html": [
       "<div>\n",
       "<style scoped>\n",
       "    .dataframe tbody tr th:only-of-type {\n",
       "        vertical-align: middle;\n",
       "    }\n",
       "\n",
       "    .dataframe tbody tr th {\n",
       "        vertical-align: top;\n",
       "    }\n",
       "\n",
       "    .dataframe thead th {\n",
       "        text-align: right;\n",
       "    }\n",
       "</style>\n",
       "<table border=\"1\" class=\"dataframe\">\n",
       "  <thead>\n",
       "    <tr style=\"text-align: right;\">\n",
       "      <th></th>\n",
       "      <th>Solo Commuter %</th>\n",
       "      <th>Carpooler %</th>\n",
       "      <th>Public Transit %</th>\n",
       "      <th>Walking %</th>\n",
       "      <th>Other Transit %</th>\n",
       "    </tr>\n",
       "    <tr>\n",
       "      <th>City</th>\n",
       "      <th></th>\n",
       "      <th></th>\n",
       "      <th></th>\n",
       "      <th></th>\n",
       "      <th></th>\n",
       "    </tr>\n",
       "  </thead>\n",
       "  <tbody>\n",
       "    <tr>\n",
       "      <th>Kansas City</th>\n",
       "      <td>83.408309</td>\n",
       "      <td>8.487235</td>\n",
       "      <td>1.077526</td>\n",
       "      <td>1.316418</td>\n",
       "      <td>1.071526</td>\n",
       "    </tr>\n",
       "    <tr>\n",
       "      <th>St. Louis</th>\n",
       "      <td>82.840714</td>\n",
       "      <td>7.378398</td>\n",
       "      <td>2.707096</td>\n",
       "      <td>1.612603</td>\n",
       "      <td>1.114144</td>\n",
       "    </tr>\n",
       "    <tr>\n",
       "      <th>Springfield</th>\n",
       "      <td>81.575667</td>\n",
       "      <td>10.134089</td>\n",
       "      <td>0.470821</td>\n",
       "      <td>1.924182</td>\n",
       "      <td>1.665157</td>\n",
       "    </tr>\n",
       "  </tbody>\n",
       "</table>\n",
       "</div>"
      ],
      "text/plain": [
       "             Solo Commuter %  Carpooler %  Public Transit %  Walking %  \\\n",
       "City                                                                     \n",
       "Kansas City        83.408309     8.487235          1.077526   1.316418   \n",
       "St. Louis          82.840714     7.378398          2.707096   1.612603   \n",
       "Springfield        81.575667    10.134089          0.470821   1.924182   \n",
       "\n",
       "             Other Transit %  \n",
       "City                          \n",
       "Kansas City         1.071526  \n",
       "St. Louis           1.114144  \n",
       "Springfield         1.665157  "
      ]
     },
     "execution_count": 8,
     "metadata": {},
     "output_type": "execute_result"
    }
   ],
   "source": [
    "#isolate %s\n",
    "metro_commute_percs = metro_commute_df[[\"Solo Commuter %\", \"Carpooler %\", \"Public Transit %\", \"Walking %\", \"Other Transit %\"]]\n",
    "metro_commute_percs"
   ]
  },
  {
   "cell_type": "markdown",
   "metadata": {},
   "source": [
    "## Plot Commute Type % by Metro Area"
   ]
  },
  {
   "cell_type": "code",
   "execution_count": 9,
   "metadata": {},
   "outputs": [
    {
     "data": {
      "image/png": "[encoded data removed]",
      "text/plain": [
       "<Figure size 432x288 with 1 Axes>"
      ]
     },
     "metadata": {},
     "output_type": "display_data"
    }
   ],
   "source": [
    "#list commute types\n",
    "commute_types = [\"Solo Commuters\", \"Carpoolers\", \"Public Transit\", \"Walking\", \"Other Transit\"]\n",
    "#set #s for x axis\n",
    "x_axis = np.arange(0, 5)\n",
    "\n",
    "#locate commute type %s for each metro area\n",
    "KC_percs = metro_commute_percs.loc[\"Kansas City\", :]\n",
    "STL_percs = metro_commute_percs.loc[\"St. Louis\", :]\n",
    "SPR_percs = metro_commute_percs.loc[\"Springfield\", :]\n",
    "\n",
    "#create metro commute type graph\n",
    "metro_commute_plot = plt.figure()\n",
    "metro_commutes = plt.subplot()\n",
    "\n",
    "#plot each metro area's %s\n",
    "KC_plot = metro_commutes.bar(x_axis-.3, KC_percs, width = .3, color = \"forestgreen\", label = \"Kansas City\")\n",
    "STL_plot = metro_commutes.bar(x_axis, STL_percs, width = .3, color = \"firebrick\", label = \"St. Louis\")\n",
    "SPR_plot = metro_commutes.bar(x_axis+.3, SPR_percs, width = .3, color = \"lightseagreen\", label = \"Springfield\")\n",
    "\n",
    "#graph formatting\n",
    "plt.legend(loc = \"best\")\n",
    "plt.xticks(x_axis, commute_types)\n",
    "plt.title(\"Missouri Metro Areas: Commute Type %\")\n",
    "plt.xlabel(\"Commute Type\")\n",
    "plt.ylabel(\"% of Total Commuters\")\n",
    "plt.tight_layout()\n",
    "\n",
    "#export figure\n",
    "metro_commute_plot.savefig(\"..\\Output\\MO metro areas commute type.png\", bbox_inches=\"tight\")"
   ]
  },
  {
   "cell_type": "markdown",
   "metadata": {},
   "source": [
    "## Statistical Analysis - ANOVA & T-Tests"
   ]
  },
  {
   "cell_type": "code",
   "execution_count": 10,
   "metadata": {},
   "outputs": [
    {
     "data": {
      "text/plain": [
       "F_onewayResult(statistic=array([0.74526003, 3.69677945, 0.72471188, 2.52894502, 0.71968854,\n",
       "       5.78585075, 0.45394827, 1.80475367, 1.67647464, 0.74219437,\n",
       "       0.75750213, 4.90576944]), pvalue=array([0.48379169, 0.03760739, 0.49332965, 0.0978049 , 0.49569189,\n",
       "       0.00788545, 0.63970766, 0.18313201, 0.20526497, 0.48520206,\n",
       "       0.47820326, 0.01490979]))"
      ]
     },
     "execution_count": 10,
     "metadata": {},
     "output_type": "execute_result"
    }
   ],
   "source": [
    "#anova analysis on each metro area's numerical columns\n",
    "anova_metro = stats.f_oneway(KC_metro_data.iloc[:, 3:15], STL_metro_data.iloc[:, 3:15], SPR_metro_data.iloc[:, 3:15])\n",
    "anova_metro"
   ]
  },
  {
   "cell_type": "markdown",
   "metadata": {},
   "source": [
    "### Commuter %, Carpool %, and Other Transit % have p-values < .05"
   ]
  },
  {
   "cell_type": "code",
   "execution_count": 11,
   "metadata": {},
   "outputs": [
    {
     "name": "stdout",
     "output_type": "stream",
     "text": [
      "Ttest_indResult(statistic=-0.39150366299567885, pvalue=0.6989249492174103)\n",
      "Ttest_indResult(statistic=1.8715100679039962, pvalue=0.11272762078117578)\n",
      "Ttest_indResult(statistic=2.141113507499094, pvalue=0.08373117393026215)\n",
      "----\n",
      "Ttest_indResult(statistic=2.3792475464891023, pvalue=0.025972683759662277)\n",
      "Ttest_indResult(statistic=-1.2820242824006265, pvalue=0.2564743556644561)\n",
      "Ttest_indResult(statistic=-2.294609467310594, pvalue=0.07560368458253786)\n",
      "----\n",
      "Ttest_indResult(statistic=0.02976471352175224, pvalue=0.9765439012410057)\n",
      "Ttest_indResult(statistic=-2.0087879161199833, pvalue=0.10590847471837249)\n",
      "Ttest_indResult(statistic=-1.9572168715338505, pvalue=0.10549996947938656)\n"
     ]
    }
   ],
   "source": [
    "#run t-tests for each city pair for each sig diff category\n",
    "print(stats.ttest_ind(KC_metro_data[\"Commuter %\"], STL_metro_data[\"Commuter %\"], equal_var=False))\n",
    "print(stats.ttest_ind(KC_metro_data[\"Commuter %\"], SPR_metro_data[\"Commuter %\"], equal_var=False))\n",
    "print(stats.ttest_ind(STL_metro_data[\"Commuter %\"], SPR_metro_data[\"Commuter %\"], equal_var=False))\n",
    "print(\"----\")\n",
    "print(stats.ttest_ind(KC_metro_data[\"Carpooler %\"], STL_metro_data[\"Carpooler %\"], equal_var=False))\n",
    "print(stats.ttest_ind(KC_metro_data[\"Carpooler %\"], SPR_metro_data[\"Carpooler %\"], equal_var=False))\n",
    "print(stats.ttest_ind(STL_metro_data[\"Carpooler %\"], SPR_metro_data[\"Carpooler %\"], equal_var=False))\n",
    "print(\"----\")\n",
    "print(stats.ttest_ind(KC_metro_data[\"Other Transit %\"], STL_metro_data[\"Other Transit %\"], equal_var=False))\n",
    "print(stats.ttest_ind(KC_metro_data[\"Other Transit %\"], SPR_metro_data[\"Other Transit %\"], equal_var=False))\n",
    "print(stats.ttest_ind(STL_metro_data[\"Other Transit %\"], SPR_metro_data[\"Other Transit %\"], equal_var=False))"
   ]
  },
  {
   "cell_type": "markdown",
   "metadata": {},
   "source": [
    "### Only KC and STL Carpooler % have p-value < .05"
   ]
  },
  {
   "cell_type": "code",
   "execution_count": 25,
   "metadata": {},
   "outputs": [
    {
     "data": {
      "text/html": [
       "<div>\n",
       "<style scoped>\n",
       "    .dataframe tbody tr th:only-of-type {\n",
       "        vertical-align: middle;\n",
       "    }\n",
       "\n",
       "    .dataframe tbody tr th {\n",
       "        vertical-align: top;\n",
       "    }\n",
       "\n",
       "    .dataframe thead th {\n",
       "        text-align: right;\n",
       "    }\n",
       "</style>\n",
       "<table border=\"1\" class=\"dataframe\">\n",
       "  <thead>\n",
       "    <tr style=\"text-align: right;\">\n",
       "      <th></th>\n",
       "      <th>Metro Pole</th>\n",
       "      <th>Name</th>\n",
       "      <th>Carpooler %</th>\n",
       "    </tr>\n",
       "  </thead>\n",
       "  <tbody>\n",
       "    <tr>\n",
       "      <th>0</th>\n",
       "      <td>Kansas City</td>\n",
       "      <td>Bates County, Missouri</td>\n",
       "      <td>13.014179</td>\n",
       "    </tr>\n",
       "    <tr>\n",
       "      <th>1</th>\n",
       "      <td>Kansas City</td>\n",
       "      <td>Caldwell County, Missouri</td>\n",
       "      <td>7.856761</td>\n",
       "    </tr>\n",
       "    <tr>\n",
       "      <th>2</th>\n",
       "      <td>Kansas City</td>\n",
       "      <td>Cass County, Missouri</td>\n",
       "      <td>9.446981</td>\n",
       "    </tr>\n",
       "    <tr>\n",
       "      <th>4</th>\n",
       "      <td>Kansas City</td>\n",
       "      <td>Clay County, Missouri</td>\n",
       "      <td>8.454472</td>\n",
       "    </tr>\n",
       "    <tr>\n",
       "      <th>5</th>\n",
       "      <td>Kansas City</td>\n",
       "      <td>Clinton County, Missouri</td>\n",
       "      <td>12.258996</td>\n",
       "    </tr>\n",
       "    <tr>\n",
       "      <th>9</th>\n",
       "      <td>Kansas City</td>\n",
       "      <td>Jackson County, Missouri</td>\n",
       "      <td>7.902987</td>\n",
       "    </tr>\n",
       "    <tr>\n",
       "      <th>11</th>\n",
       "      <td>Kansas City</td>\n",
       "      <td>Lafayette County, Missouri</td>\n",
       "      <td>10.304167</td>\n",
       "    </tr>\n",
       "    <tr>\n",
       "      <th>13</th>\n",
       "      <td>Kansas City</td>\n",
       "      <td>Platte County, Missouri</td>\n",
       "      <td>8.556097</td>\n",
       "    </tr>\n",
       "    <tr>\n",
       "      <th>15</th>\n",
       "      <td>Kansas City</td>\n",
       "      <td>Ray County, Missouri</td>\n",
       "      <td>11.617289</td>\n",
       "    </tr>\n",
       "    <tr>\n",
       "      <th>0</th>\n",
       "      <td>Kansas City</td>\n",
       "      <td>Johnson County, Kansas</td>\n",
       "      <td>7.003024</td>\n",
       "    </tr>\n",
       "    <tr>\n",
       "      <th>2</th>\n",
       "      <td>Kansas City</td>\n",
       "      <td>Leavenworth County, Kansas</td>\n",
       "      <td>12.023950</td>\n",
       "    </tr>\n",
       "    <tr>\n",
       "      <th>4</th>\n",
       "      <td>Kansas City</td>\n",
       "      <td>Linn County, Kansas</td>\n",
       "      <td>10.350921</td>\n",
       "    </tr>\n",
       "    <tr>\n",
       "      <th>6</th>\n",
       "      <td>Kansas City</td>\n",
       "      <td>Miami County, Kansas</td>\n",
       "      <td>7.865381</td>\n",
       "    </tr>\n",
       "    <tr>\n",
       "      <th>8</th>\n",
       "      <td>Kansas City</td>\n",
       "      <td>Wyandotte County, Kansas</td>\n",
       "      <td>13.337717</td>\n",
       "    </tr>\n",
       "  </tbody>\n",
       "</table>\n",
       "</div>"
      ],
      "text/plain": [
       "     Metro Pole                        Name  Carpooler %\n",
       "0   Kansas City      Bates County, Missouri    13.014179\n",
       "1   Kansas City   Caldwell County, Missouri     7.856761\n",
       "2   Kansas City       Cass County, Missouri     9.446981\n",
       "4   Kansas City       Clay County, Missouri     8.454472\n",
       "5   Kansas City    Clinton County, Missouri    12.258996\n",
       "9   Kansas City    Jackson County, Missouri     7.902987\n",
       "11  Kansas City  Lafayette County, Missouri    10.304167\n",
       "13  Kansas City     Platte County, Missouri     8.556097\n",
       "15  Kansas City        Ray County, Missouri    11.617289\n",
       "0   Kansas City      Johnson County, Kansas     7.003024\n",
       "2   Kansas City  Leavenworth County, Kansas    12.023950\n",
       "4   Kansas City         Linn County, Kansas    10.350921\n",
       "6   Kansas City        Miami County, Kansas     7.865381\n",
       "8   Kansas City    Wyandotte County, Kansas    13.337717"
      ]
     },
     "execution_count": 25,
     "metadata": {},
     "output_type": "execute_result"
    }
   ],
   "source": [
    "KC_carpooler_data = KC_metro_data.loc[:, [\"Metro Pole\", \"Name\", \"Carpooler %\"]]\n",
    "KC_carpooler_data"
   ]
  },
  {
   "cell_type": "code",
   "execution_count": 26,
   "metadata": {},
   "outputs": [
    {
     "data": {
      "text/html": [
       "<div>\n",
       "<style scoped>\n",
       "    .dataframe tbody tr th:only-of-type {\n",
       "        vertical-align: middle;\n",
       "    }\n",
       "\n",
       "    .dataframe tbody tr th {\n",
       "        vertical-align: top;\n",
       "    }\n",
       "\n",
       "    .dataframe thead th {\n",
       "        text-align: right;\n",
       "    }\n",
       "</style>\n",
       "<table border=\"1\" class=\"dataframe\">\n",
       "  <thead>\n",
       "    <tr style=\"text-align: right;\">\n",
       "      <th></th>\n",
       "      <th>Metro Pole</th>\n",
       "      <th>Name</th>\n",
       "      <th>Carpooler %</th>\n",
       "    </tr>\n",
       "  </thead>\n",
       "  <tbody>\n",
       "    <tr>\n",
       "      <th>7</th>\n",
       "      <td>St. Louis</td>\n",
       "      <td>Franklin County, Missouri</td>\n",
       "      <td>9.699059</td>\n",
       "    </tr>\n",
       "    <tr>\n",
       "      <th>10</th>\n",
       "      <td>St. Louis</td>\n",
       "      <td>Jefferson County, Missouri</td>\n",
       "      <td>9.289617</td>\n",
       "    </tr>\n",
       "    <tr>\n",
       "      <th>12</th>\n",
       "      <td>St. Louis</td>\n",
       "      <td>Lincoln County, Missouri</td>\n",
       "      <td>9.897697</td>\n",
       "    </tr>\n",
       "    <tr>\n",
       "      <th>16</th>\n",
       "      <td>St. Louis</td>\n",
       "      <td>St. Charles County, Missouri</td>\n",
       "      <td>6.081887</td>\n",
       "    </tr>\n",
       "    <tr>\n",
       "      <th>17</th>\n",
       "      <td>St. Louis</td>\n",
       "      <td>St. Louis County, Missouri</td>\n",
       "      <td>6.693684</td>\n",
       "    </tr>\n",
       "    <tr>\n",
       "      <th>18</th>\n",
       "      <td>St. Louis</td>\n",
       "      <td>Warren County, Missouri</td>\n",
       "      <td>10.460919</td>\n",
       "    </tr>\n",
       "    <tr>\n",
       "      <th>20</th>\n",
       "      <td>St. Louis</td>\n",
       "      <td>St. Louis city, Missouri</td>\n",
       "      <td>8.650760</td>\n",
       "    </tr>\n",
       "    <tr>\n",
       "      <th>1</th>\n",
       "      <td>St. Louis</td>\n",
       "      <td>Madison County, Illinois</td>\n",
       "      <td>6.868466</td>\n",
       "    </tr>\n",
       "    <tr>\n",
       "      <th>3</th>\n",
       "      <td>St. Louis</td>\n",
       "      <td>St. Clair County, Illinois</td>\n",
       "      <td>7.403727</td>\n",
       "    </tr>\n",
       "    <tr>\n",
       "      <th>5</th>\n",
       "      <td>St. Louis</td>\n",
       "      <td>Clinton County, Illinois</td>\n",
       "      <td>9.737767</td>\n",
       "    </tr>\n",
       "    <tr>\n",
       "      <th>7</th>\n",
       "      <td>St. Louis</td>\n",
       "      <td>Monroe County, Illinois</td>\n",
       "      <td>7.654914</td>\n",
       "    </tr>\n",
       "    <tr>\n",
       "      <th>9</th>\n",
       "      <td>St. Louis</td>\n",
       "      <td>Jersey County, Illinois</td>\n",
       "      <td>7.099391</td>\n",
       "    </tr>\n",
       "  </tbody>\n",
       "</table>\n",
       "</div>"
      ],
      "text/plain": [
       "   Metro Pole                          Name  Carpooler %\n",
       "7   St. Louis     Franklin County, Missouri     9.699059\n",
       "10  St. Louis    Jefferson County, Missouri     9.289617\n",
       "12  St. Louis      Lincoln County, Missouri     9.897697\n",
       "16  St. Louis  St. Charles County, Missouri     6.081887\n",
       "17  St. Louis    St. Louis County, Missouri     6.693684\n",
       "18  St. Louis       Warren County, Missouri    10.460919\n",
       "20  St. Louis      St. Louis city, Missouri     8.650760\n",
       "1   St. Louis      Madison County, Illinois     6.868466\n",
       "3   St. Louis    St. Clair County, Illinois     7.403727\n",
       "5   St. Louis      Clinton County, Illinois     9.737767\n",
       "7   St. Louis       Monroe County, Illinois     7.654914\n",
       "9   St. Louis       Jersey County, Illinois     7.099391"
      ]
     },
     "execution_count": 26,
     "metadata": {},
     "output_type": "execute_result"
    }
   ],
   "source": [
    "STL_carpooler_data = STL_metro_data.loc[:, [\"Metro Pole\", \"Name\", \"Carpooler %\"]]\n",
    "STL_carpooler_data"
   ]
  },
  {
   "cell_type": "code",
   "execution_count": null,
   "metadata": {},
   "outputs": [],
   "source": []
  }
 ],
 "metadata": {
  "kernelspec": {
   "display_name": "Python 3",
   "language": "python",
   "name": "python3"
  },
  "language_info": {
   "codemirror_mode": {
    "name": "ipython",
    "version": 3
   },
   "file_extension": ".py",
   "mimetype": "text/x-python",
   "name": "python",
   "nbconvert_exporter": "python",
   "pygments_lexer": "ipython3",
   "version": "3.6.5"
  }
 },
 "nbformat": 4,
 "nbformat_minor": 2
}
